{
 "cells": [
  {
   "attachments": {},
   "cell_type": "markdown",
   "metadata": {},
   "source": [
    "# O cliente solicitou para que seja feito o código de uma calculadora no jupyter notebook. O código apresenta alguns erros. Faça as devidas correções, e explique as suas correções através do commit semântico."
   ]
  },
  {
   "attachments": {},
   "cell_type": "markdown",
   "metadata": {},
   "source": [
    "<br>"
   ]
  },
  {
   "cell_type": "markdown",
   "metadata": {},
   "source": [
    "# Resolva os erros no código abaixo"
   ]
  },
  {
   "cell_type": "code",
   "execution_count": null,
   "metadata": {},
   "outputs": [],
   "source": [
    "n = int(input('Digite um número para ver sua tabuada:'))\n",
    "print('*' * 14)\n",
    "  print('{} x 1 = {} \\n{} x 2 = {} \\n{} x 3 = {} \\{} x 4 = {} \\n{} x 5 = {} \\n{} x 6 = {} \"\\n{} x 7\" = {} \\{} x 8 = {}'\n",
    "    '\\n{} x 9 = {} \\n{} x 10 = {}'.format(a, (n*1), n, (b*2), n, (n*9), n, (n*4), n, (n*5), n, (n*1), n, (n*7), n, (y*8), n, (n*9), n, (nn*10)))\n",
    "print('-' * 14)"
   ]
  },
  {
   "attachments": {},
   "cell_type": "markdown",
   "metadata": {},
   "source": [
    "# Saída desejada"
   ]
  },
  {
   "cell_type": "code",
   "execution_count": 2,
   "metadata": {},
   "outputs": [
    {
     "name": "stdout",
     "output_type": "stream",
     "text": [
      "--------------\n",
      "2 x 1 = 2 \n",
      "2 x 2 = 4 \n",
      "2 x 3 = 6 \n",
      "2 x 4 = 8 \n",
      "2 x 5 = 10 \n",
      "2 x 6 = 12 \n",
      "2 x 7 = 14 \n",
      "2 x 8 = 16\n",
      "2 x 9 = 18 \n",
      "2 x 10 = 20\n",
      "--------------\n"
     ]
    }
   ],
   "source": []
  }
 ],
 "metadata": {
  "kernelspec": {
   "display_name": "Python 3",
   "language": "python",
   "name": "python3"
  },
  "language_info": {
   "codemirror_mode": {
    "name": "ipython",
    "version": 3
   },
   "file_extension": ".py",
   "mimetype": "text/x-python",
   "name": "python",
   "nbconvert_exporter": "python",
   "pygments_lexer": "ipython3",
   "version": "3.10.7"
  },
  "orig_nbformat": 4
 },
 "nbformat": 4,
 "nbformat_minor": 2
}
