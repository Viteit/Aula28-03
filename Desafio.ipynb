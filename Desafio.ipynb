{
 "cells": [
  {
   "attachments": {},
   "cell_type": "markdown",
   "metadata": {},
   "source": [
    "# O cliente solicitou para que seja feito o código de uma calculadora no jupyter notebook. O código apresenta alguns erros. Faça as devidas correções, e explique as suas correções através do commit semântico."
   ]
  },
  {
   "attachments": {},
   "cell_type": "markdown",
   "metadata": {},
   "source": [
    "<br>"
   ]
  },
  {
   "cell_type": "markdown",
   "metadata": {},
   "source": [
    "# Resolva os erros no código abaixo"
   ]
  },
  {
   "cell_type": "code",
   "execution_count": 1,
   "metadata": {},
   "outputs": [
    {
     "name": "stdout",
     "output_type": "stream",
     "text": [
      "A tabuada de 2 é\n",
      "\n",
      "2 x 1 = 2 \n",
      "2 x 2 = 4 \n",
      "2 x 3 = 6 \n",
      "2 x 4 = 8 \n",
      "2 x 5 = 10 \n",
      "2 x 6 = 12 \n",
      "2 x 7 = 14 \n",
      "2 x 8 = 16\n",
      "2 x 9 = 18 \n",
      "2 x 10 = 20\n"
     ]
    }
   ],
   "source": [
    "n = int(input('Digite um número para ver sua tabuada:'))\n",
    "print('A tabuada de', n, 'é')\n",
    "print('\\n{} x 1 = {} \\n{} x 2 = {} \\n{} x 3 = {} \\n{} x 4 = {} \\n{} x 5 = {} \\n{} x 6 = {} \\n{} x 7 = {} \\n{} x 8 = {}'\n",
    "'\\n{} x 9 = {} \\n{} x 10 = {}'.format(n, (n*1), n, (n*2), n, (n*3), n, (n*4), n, (n*5), n, (n*6), n, (n*7), n, (n*8), n, (n*9), n, (n*10)))\n"
   ]
  },
  {
   "attachments": {},
   "cell_type": "markdown",
   "metadata": {},
   "source": [
    "# Saída desejada"
   ]
  },
  {
   "cell_type": "code",
   "execution_count": null,
   "metadata": {},
   "outputs": [],
   "source": []
  }
 ],
 "metadata": {
  "kernelspec": {
   "display_name": "Python 3",
   "language": "python",
   "name": "python3"
  },
  "language_info": {
   "codemirror_mode": {
    "name": "ipython",
    "version": 3
   },
   "file_extension": ".py",
   "mimetype": "text/x-python",
   "name": "python",
   "nbconvert_exporter": "python",
   "pygments_lexer": "ipython3",
   "version": "3.11.0"
  },
  "orig_nbformat": 4
 },
 "nbformat": 4,
 "nbformat_minor": 2
}
